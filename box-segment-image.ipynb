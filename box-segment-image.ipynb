{
 "cells": [
  {
   "cell_type": "code",
   "execution_count": null,
   "metadata": {},
   "outputs": [],
   "source": [
    "import matplotlib.pyplot as plt\n",
    "import matplotlib.patches as mpatches\n",
    "import cv2 as cv\n",
    "from skimage import data\n",
    "from skimage import exposure\n",
    "from skimage.filters import threshold_otsu\n",
    "from skimage.segmentation import clear_border\n",
    "from skimage.measure import label, regionprops\n",
    "from skimage.morphology import erosion, dilation, opening, closing, square, octagon, disk, diameter_closing, diameter_opening\n",
    "from skimage.color import label2rgb"
   ]
  },
  {
   "cell_type": "code",
   "execution_count": null,
   "metadata": {},
   "outputs": [],
   "source": [
    "image = cv.imread(\"90-angle-nE7lB_uvd6I-unsplash.jpg\")\n",
    "image = cv.cvtColor(image, cv.COLOR_BGR2GRAY)\n",
    "plt.imshow(image, cmap=\"gray\")\n",
    "plt.show()"
   ]
  },
  {
   "cell_type": "code",
   "execution_count": null,
   "metadata": {},
   "outputs": [],
   "source": [
    "image_eq = exposure.equalize_adapthist(image)\n",
    "plt.imshow(image_eq, cmap=\"gray\")\n",
    "plt.show()"
   ]
  },
  {
   "cell_type": "code",
   "execution_count": null,
   "metadata": {},
   "outputs": [],
   "source": [
    "thresh = threshold_otsu(image_eq)\n",
    "bw = closing(image_eq > thresh, disk(2.6))\n",
    "plt.imshow(bw, cmap=\"gray\")\n",
    "plt.show()"
   ]
  },
  {
   "cell_type": "code",
   "execution_count": null,
   "metadata": {},
   "outputs": [],
   "source": [
    "cleared = clear_border(bw)\n",
    "cleared = opening(cleared, disk(1.8))\n",
    "plt.imshow(cleared)\n",
    "plt.show()"
   ]
  },
  {
   "cell_type": "code",
   "execution_count": null,
   "metadata": {},
   "outputs": [],
   "source": [
    "label_image = label(cleared)\n",
    "image_label_overlay = label2rgb(label_image, image=image, bg_label=0)\n",
    "plt.imshow(image_label_overlay)\n",
    "plt.show()"
   ]
  },
  {
   "cell_type": "code",
   "execution_count": null,
   "metadata": {},
   "outputs": [],
   "source": [
    "for i, region in enumerate(regionprops(label_image)):\n",
    "    print(i+1, region.area)"
   ]
  }
 ],
 "metadata": {
  "language_info": {
   "name": "python"
  },
  "orig_nbformat": 4
 },
 "nbformat": 4,
 "nbformat_minor": 2
}
