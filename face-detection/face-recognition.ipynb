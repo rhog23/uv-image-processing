{
 "cells": [
  {
   "cell_type": "code",
   "execution_count": 16,
   "metadata": {},
   "outputs": [],
   "source": [
    "import numpy as np\n",
    "import pandas as pd\n",
    "from joblib import dump\n",
    "import matplotlib.pyplot as plt\n",
    "from sklearn import neighbors, svm\n",
    "from sklearn.model_selection import train_test_split\n",
    "from sklearn.metrics import accuracy_score, confusion_matrix, ConfusionMatrixDisplay, classification_report"
   ]
  },
  {
   "cell_type": "code",
   "execution_count": 3,
   "metadata": {},
   "outputs": [
    {
     "data": {
      "text/html": [
       "<div>\n",
       "<style scoped>\n",
       "    .dataframe tbody tr th:only-of-type {\n",
       "        vertical-align: middle;\n",
       "    }\n",
       "\n",
       "    .dataframe tbody tr th {\n",
       "        vertical-align: top;\n",
       "    }\n",
       "\n",
       "    .dataframe thead th {\n",
       "        text-align: right;\n",
       "    }\n",
       "</style>\n",
       "<table border=\"1\" class=\"dataframe\">\n",
       "  <thead>\n",
       "    <tr style=\"text-align: right;\">\n",
       "      <th></th>\n",
       "      <th>name</th>\n",
       "      <th>embedding</th>\n",
       "    </tr>\n",
       "  </thead>\n",
       "  <tbody>\n",
       "    <tr>\n",
       "      <th>0</th>\n",
       "      <td>Alvandy</td>\n",
       "      <td>[-0.08260558545589447, 0.04126936197280884, 0....</td>\n",
       "    </tr>\n",
       "    <tr>\n",
       "      <th>1</th>\n",
       "      <td>Alvandy</td>\n",
       "      <td>[-0.08091454952955246, 0.06770825386047363, 0....</td>\n",
       "    </tr>\n",
       "    <tr>\n",
       "      <th>2</th>\n",
       "      <td>Alvandy</td>\n",
       "      <td>[-0.04926420748233795, 0.08213754743337631, 0....</td>\n",
       "    </tr>\n",
       "    <tr>\n",
       "      <th>3</th>\n",
       "      <td>Alvandy</td>\n",
       "      <td>[-0.07122804969549179, 0.11059367656707764, 0....</td>\n",
       "    </tr>\n",
       "    <tr>\n",
       "      <th>4</th>\n",
       "      <td>Alvandy</td>\n",
       "      <td>[-0.06552636623382568, 0.07253175973892212, 0....</td>\n",
       "    </tr>\n",
       "  </tbody>\n",
       "</table>\n",
       "</div>"
      ],
      "text/plain": [
       "      name                                          embedding\n",
       "0  Alvandy  [-0.08260558545589447, 0.04126936197280884, 0....\n",
       "1  Alvandy  [-0.08091454952955246, 0.06770825386047363, 0....\n",
       "2  Alvandy  [-0.04926420748233795, 0.08213754743337631, 0....\n",
       "3  Alvandy  [-0.07122804969549179, 0.11059367656707764, 0....\n",
       "4  Alvandy  [-0.06552636623382568, 0.07253175973892212, 0...."
      ]
     },
     "execution_count": 3,
     "metadata": {},
     "output_type": "execute_result"
    }
   ],
   "source": [
    "df = pd.read_csv(\"facial-embeddings.csv\")\n",
    "new_df = df[df['name'] != 'Yonathan']\n",
    "new_df = new_df.drop(columns=['Unnamed: 0'])\n",
    "new_df.head()"
   ]
  },
  {
   "cell_type": "code",
   "execution_count": 4,
   "metadata": {},
   "outputs": [
    {
     "data": {
      "text/html": [
       "<div>\n",
       "<style scoped>\n",
       "    .dataframe tbody tr th:only-of-type {\n",
       "        vertical-align: middle;\n",
       "    }\n",
       "\n",
       "    .dataframe tbody tr th {\n",
       "        vertical-align: top;\n",
       "    }\n",
       "\n",
       "    .dataframe thead th {\n",
       "        text-align: right;\n",
       "    }\n",
       "</style>\n",
       "<table border=\"1\" class=\"dataframe\">\n",
       "  <thead>\n",
       "    <tr style=\"text-align: right;\">\n",
       "      <th></th>\n",
       "      <th>name</th>\n",
       "      <th>embedding</th>\n",
       "    </tr>\n",
       "  </thead>\n",
       "  <tbody>\n",
       "    <tr>\n",
       "      <th>1171</th>\n",
       "      <td>Yonathan</td>\n",
       "      <td>[-0.07743033021688461, 0.07706646621227264, 0....</td>\n",
       "    </tr>\n",
       "    <tr>\n",
       "      <th>1172</th>\n",
       "      <td>Yonathan</td>\n",
       "      <td>[-0.047055888921022415, 0.04320114105939865, 0...</td>\n",
       "    </tr>\n",
       "    <tr>\n",
       "      <th>1173</th>\n",
       "      <td>Yonathan</td>\n",
       "      <td>[-0.06657466292381287, 0.08987622708082199, 0....</td>\n",
       "    </tr>\n",
       "    <tr>\n",
       "      <th>1174</th>\n",
       "      <td>Yonathan</td>\n",
       "      <td>[-0.0803665965795517, 0.07627370208501816, 0.1...</td>\n",
       "    </tr>\n",
       "    <tr>\n",
       "      <th>1175</th>\n",
       "      <td>Yonathan</td>\n",
       "      <td>[-0.06935492157936096, 0.07587584853172302, 0....</td>\n",
       "    </tr>\n",
       "  </tbody>\n",
       "</table>\n",
       "</div>"
      ],
      "text/plain": [
       "          name                                          embedding\n",
       "1171  Yonathan  [-0.07743033021688461, 0.07706646621227264, 0....\n",
       "1172  Yonathan  [-0.047055888921022415, 0.04320114105939865, 0...\n",
       "1173  Yonathan  [-0.06657466292381287, 0.08987622708082199, 0....\n",
       "1174  Yonathan  [-0.0803665965795517, 0.07627370208501816, 0.1...\n",
       "1175  Yonathan  [-0.06935492157936096, 0.07587584853172302, 0...."
      ]
     },
     "execution_count": 4,
     "metadata": {},
     "output_type": "execute_result"
    }
   ],
   "source": [
    "new_df['name'] = new_df['name'].replace('Yonathan v2', 'Yonathan')\n",
    "new_df.tail()"
   ]
  },
  {
   "cell_type": "code",
   "execution_count": 9,
   "metadata": {},
   "outputs": [],
   "source": [
    "X_train, X_test, y_train, y_test = train_test_split(new_df['embedding'], new_df['name'],\n",
    "                                                    train_size=0.8, random_state=0)"
   ]
  },
  {
   "cell_type": "code",
   "execution_count": 14,
   "metadata": {},
   "outputs": [
    {
     "name": "stdout",
     "output_type": "stream",
     "text": [
      "<class 'str'>\n",
      "<class 'numpy.ndarray'>\n",
      "<class 'numpy.ndarray'>\n"
     ]
    },
    {
     "name": "stderr",
     "output_type": "stream",
     "text": [
      "C:\\Users\\LENOVO\\AppData\\Local\\Temp\\ipykernel_2040\\1965393634.py:2: DeprecationWarning: string or file could not be read to its end due to unmatched data; this will raise a ValueError in the future.\n",
      "  X_train = [np.fromstring(x[1:], sep=\",\") for x in X_train]\n",
      "C:\\Users\\LENOVO\\AppData\\Local\\Temp\\ipykernel_2040\\1965393634.py:3: DeprecationWarning: string or file could not be read to its end due to unmatched data; this will raise a ValueError in the future.\n",
      "  X_test = [np.fromstring(x[1:], sep=\",\") for x in X_test]\n"
     ]
    }
   ],
   "source": [
    "print(type(X_train[0]))\n",
    "X_train = [np.fromstring(x[1:], sep=\",\") for x in X_train]\n",
    "X_test = [np.fromstring(x[1:], sep=\",\") for x in X_test]\n",
    "print(type(X_train[0]))\n",
    "print(type(X_test[0]))"
   ]
  },
  {
   "cell_type": "code",
   "execution_count": 20,
   "metadata": {},
   "outputs": [
    {
     "name": "stdout",
     "output_type": "stream",
     "text": [
      "Test set predictions: 95.918%\n",
      "🎯Precision, Recall, and F1-Score \n",
      "               precision    recall  f1-score   support\n",
      "\n",
      "     Alvandy    1.00000   1.00000   1.00000        30\n",
      "        Gres    0.97619   0.95349   0.96471        43\n",
      "       Jacky    1.00000   1.00000   1.00000        34\n",
      "      Kelvin    0.91304   0.91304   0.91304        46\n",
      "    Yonathan    0.93182   0.95349   0.94253        43\n",
      "\n",
      "    accuracy                        0.95918       196\n",
      "   macro avg    0.96421   0.96400   0.96406       196\n",
      "weighted avg    0.95941   0.95918   0.95924       196\n",
      "\n"
     ]
    }
   ],
   "source": [
    "# KNN\n",
    "knn_clf = neighbors.KNeighborsClassifier()\n",
    "knn_clf.fit(X_train, y_train)\n",
    "y_pred = knn_clf.predict(X_test)\n",
    "\n",
    "print(f\"Test set predictions: {accuracy_score(y_test, y_pred):.3%}\")\n",
    "# Compute precision and recall on test data\n",
    "print(\"🎯Precision, Recall, and F1-Score \\n\", classification_report(y_test, y_pred, target_names=new_df['name'].unique(), digits=5))"
   ]
  },
  {
   "cell_type": "code",
   "execution_count": 21,
   "metadata": {},
   "outputs": [
    {
     "data": {
      "image/png": "[encoded data removed]",
      "text/plain": [
       "<Figure size 640x480 with 2 Axes>"
      ]
     },
     "metadata": {},
     "output_type": "display_data"
    }
   ],
   "source": [
    "# KNN Confusion Matrix\n",
    "cm = confusion_matrix(y_test, y_pred, labels=new_df['name'].unique())\n",
    "disp = ConfusionMatrixDisplay(confusion_matrix=cm, display_labels=new_df['name'].unique())\n",
    "disp.plot()\n",
    "plt.show()"
   ]
  },
  {
   "cell_type": "code",
   "execution_count": 22,
   "metadata": {},
   "outputs": [
    {
     "name": "stdout",
     "output_type": "stream",
     "text": [
      "Test set predictions: 94.898%\n",
      "🎯Precision, Recall, and F1-Score \n",
      "               precision    recall  f1-score   support\n",
      "\n",
      "     Alvandy    1.00000   1.00000   1.00000        30\n",
      "        Gres    1.00000   0.93023   0.96386        43\n",
      "       Jacky    1.00000   1.00000   1.00000        34\n",
      "      Kelvin    0.86000   0.93478   0.89583        46\n",
      "    Yonathan    0.92857   0.90698   0.91765        43\n",
      "\n",
      "    accuracy                        0.94898       196\n",
      "   macro avg    0.95771   0.95440   0.95547       196\n",
      "weighted avg    0.95147   0.94898   0.94956       196\n",
      "\n"
     ]
    }
   ],
   "source": [
    "# SVM\n",
    "svm_clf = svm.SVC(random_state=0)\n",
    "svm_clf.fit(X_train, y_train)\n",
    "y_pred = svm_clf.predict(X_test)\n",
    "\n",
    "print(f\"Test set predictions: {accuracy_score(y_test, y_pred):.3%}\")\n",
    "# Compute precision and recall on test data\n",
    "print(\"🎯Precision, Recall, and F1-Score \\n\", classification_report(y_test, y_pred, target_names=new_df['name'].unique(), digits=5))"
   ]
  },
  {
   "cell_type": "code",
   "execution_count": 23,
   "metadata": {},
   "outputs": [
    {
     "data": {
      "image/png": "[encoded data removed]",
      "text/plain": [
       "<Figure size 640x480 with 2 Axes>"
      ]
     },
     "metadata": {},
     "output_type": "display_data"
    }
   ],
   "source": [
    "# SVM Confusion Matrix\n",
    "cm = confusion_matrix(y_test, y_pred, labels=new_df['name'].unique())\n",
    "disp = ConfusionMatrixDisplay(confusion_matrix=cm, display_labels=new_df['name'].unique())\n",
    "disp.plot()\n",
    "plt.show()"
   ]
  },
  {
   "cell_type": "code",
   "execution_count": 24,
   "metadata": {},
   "outputs": [
    {
     "data": {
      "text/plain": [
       "['svm_classifier.joblib']"
      ]
     },
     "execution_count": 24,
     "metadata": {},
     "output_type": "execute_result"
    }
   ],
   "source": [
    "# Saving models\n",
    "# KNN model\n",
    "dump(knn_clf, \"knn_classifier.joblib\")\n",
    "\n",
    "# SVM model\n",
    "dump(svm_clf, \"svm_classifier.joblib\")"
   ]
  }
 ],
 "metadata": {
  "kernelspec": {
   "display_name": "cv-env-3.11",
   "language": "python",
   "name": "python3"
  },
  "language_info": {
   "codemirror_mode": {
    "name": "ipython",
    "version": 3
   },
   "file_extension": ".py",
   "mimetype": "text/x-python",
   "name": "python",
   "nbconvert_exporter": "python",
   "pygments_lexer": "ipython3",
   "version": "3.11.7"
  }
 },
 "nbformat": 4,
 "nbformat_minor": 2
}
